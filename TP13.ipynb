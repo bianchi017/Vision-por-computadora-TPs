{
  "nbformat": 4,
  "nbformat_minor": 0,
  "metadata": {
    "colab": {
      "name": "TP13.ipynb",
      "provenance": [],
      "collapsed_sections": []
    },
    "kernelspec": {
      "name": "python3",
      "display_name": "Python 3"
    },
    "accelerator": "GPU"
  },
  "cells": [
    {
      "cell_type": "markdown",
      "metadata": {
        "id": "zwn77xMH2riC",
        "colab_type": "text"
      },
      "source": [
        "# Práctico clasificación de imágenes\n",
        "En este práctico vamos a implementar un clasificador de imágenes. El objetivo sería diseñar y entrenar un algoritmo que en forma automática clasifique una imagen como correspondiente a una clase entre varias. Las clases las vamos a elegir nosotros (perros y gatos, autos y motos, o algo más interesante o útil).\n",
        "\n",
        "## Dataset\n",
        "1. El primer paso es elegir las clases entre las \n",
        "que vamos a desambiguar. Para este ejemplo yo elegí aviones y helicopteros. Pueden elegir más de 2 clases.\n",
        "1. El segundo paso es buscar imágenes en internet en donde aparezcan los objetos que elegimos.\n",
        "1. Las imágenes las vamos a guardar con la siguiente estructura de directorios:\n",
        "- dataset\n",
        "  - train\n",
        "    - airplanes\n",
        "      - imagen01.xxx\n",
        "      - ...\n",
        "      - imagenXX.xxx\n",
        "    - helicopters\n",
        "      - imagen01.xxx\n",
        "      - ...\n",
        "      - imagenXX.xxx\n",
        "  - test\n",
        "    - airplanes\n",
        "      - imagen01.xxx\n",
        "      - ...\n",
        "      - imagenXX.xxx\n",
        "    - helicopters\n",
        "      - imagen01.xxx\n",
        "      - ...\n",
        "      - imagenXX.xxx\n",
        "\n",
        "La cantidad de imágenes de entrenamiento debe ser aproximadamente del 80% y las de test del 20%. También hay que tratar de tener aproximadamente la misma cantidad de imágenes de cada clase (100 helicópteros y 100 aviones).\n",
        "1. Después de esto comprimimos en un zip el dataset.\n",
        "\n"
      ]
    },
    {
      "cell_type": "markdown",
      "metadata": {
        "id": "wSNoXuE972_1",
        "colab_type": "text"
      },
      "source": [
        "## Leer dataset desde colab\n",
        "1. Subir dataset.zip a drive\n",
        "1. Montamos nuestro drive\n",
        "1. Nos pide que abramos un link y después que carguemos el código que nos devuelve. Cargamos el código y presionamos Enter.\n",
        "1. Luego de eso descomprimimos el archivo."
      ]
    },
    {
      "cell_type": "code",
      "metadata": {
        "id": "pfZginAPeSzL",
        "colab_type": "code",
        "colab": {
          "base_uri": "https://localhost:8080/",
          "height": 129
        },
        "outputId": "25518c14-6187-44e9-bedb-f03af0847c12"
      },
      "source": [
        "\n",
        "from google.colab import drive\n",
        "drive.mount('/content/drive')\n"
      ],
      "execution_count": 1,
      "outputs": [
        {
          "output_type": "stream",
          "text": [
            "Go to this URL in a browser: https://accounts.google.com/o/oauth2/auth?client_id=947318989803-6bn6qk8qdgf4n4g3pfee6491hc0brc4i.apps.googleusercontent.com&redirect_uri=urn%3aietf%3awg%3aoauth%3a2.0%3aoob&response_type=code&scope=email%20https%3a%2f%2fwww.googleapis.com%2fauth%2fdocs.test%20https%3a%2f%2fwww.googleapis.com%2fauth%2fdrive%20https%3a%2f%2fwww.googleapis.com%2fauth%2fdrive.photos.readonly%20https%3a%2f%2fwww.googleapis.com%2fauth%2fpeopleapi.readonly\n",
            "\n",
            "Enter your authorization code:\n",
            "··········\n",
            "Mounted at /content/drive\n"
          ],
          "name": "stdout"
        }
      ]
    },
    {
      "cell_type": "code",
      "metadata": {
        "id": "qMaRYsCxl5u_",
        "colab_type": "code",
        "colab": {
          "base_uri": "https://localhost:8080/",
          "height": 1000
        },
        "outputId": "d0eb993c-aa8e-4197-8e02-ade78d84739b"
      },
      "source": [
        "!unzip \"/content/drive/My Drive/dataset.zip\""
      ],
      "execution_count": 2,
      "outputs": [
        {
          "output_type": "stream",
          "text": [
            "Archive:  /content/drive/My Drive/dataset.zip\n",
            "   creating: dataset/\n",
            "   creating: dataset/train/\n",
            "   creating: dataset/train/perros/\n",
            "  inflating: dataset/train/perros/image.jpeg  \n",
            "  inflating: dataset/train/perros/image1.jpeg  \n",
            "  inflating: dataset/train/perros/image3.jpeg  \n",
            "  inflating: dataset/train/perros/image4.jpeg  \n",
            "  inflating: dataset/train/perros/image6.jpeg  \n",
            "  inflating: dataset/train/perros/image7.jpeg  \n",
            "  inflating: dataset/train/perros/image11.jpeg  \n",
            "  inflating: dataset/train/perros/image12.jpeg  \n",
            "  inflating: dataset/train/perros/image18.jpeg  \n",
            "  inflating: dataset/train/perros/images.jpg  \n",
            "  inflating: dataset/train/perros/images0.jpg  \n",
            "  inflating: dataset/train/perros/images1.jpg  \n",
            "  inflating: dataset/train/perros/images2.jpg  \n",
            "  inflating: dataset/train/perros/images3.jpg  \n",
            "  inflating: dataset/train/perros/images6.jpg  \n",
            "  inflating: dataset/train/perros/images7.jpg  \n",
            "  inflating: dataset/train/perros/images9.jpg  \n",
            "  inflating: dataset/train/perros/images10.jpg  \n",
            "  inflating: dataset/train/perros/images11.jpg  \n",
            "  inflating: dataset/train/perros/images12.jpg  \n",
            "  inflating: dataset/train/perros/images13.jpg  \n",
            "  inflating: dataset/train/perros/images15.jpg  \n",
            "  inflating: dataset/train/perros/images16.jpg  \n",
            "  inflating: dataset/train/perros/images17.jpg  \n",
            "  inflating: dataset/train/perros/images18.jpg  \n",
            "  inflating: dataset/train/perros/images19.jpg  \n",
            "  inflating: dataset/train/perros/images20.jpg  \n",
            "  inflating: dataset/train/perros/images21.jpg  \n",
            "  inflating: dataset/train/perros/images22.jpg  \n",
            "  inflating: dataset/train/perros/images23.jpg  \n",
            "  inflating: dataset/train/perros/images24.jpg  \n",
            "  inflating: dataset/train/perros/images25.jpg  \n",
            "  inflating: dataset/train/perros/images26.jpg  \n",
            "  inflating: dataset/train/perros/images29.jpg  \n",
            "  inflating: dataset/train/perros/images30.jpg  \n",
            "  inflating: dataset/train/perros/images31.jpg  \n",
            "  inflating: dataset/train/perros/images32.jpg  \n",
            "  inflating: dataset/train/perros/images33.jpg  \n",
            "  inflating: dataset/train/perros/images34.jpg  \n",
            "  inflating: dataset/train/perros/images36.jpg  \n",
            "  inflating: dataset/train/perros/images37.jpg  \n",
            "  inflating: dataset/train/perros/images38.jpg  \n",
            "  inflating: dataset/train/perros/images39.jpg  \n",
            "  inflating: dataset/train/perros/images40.jpg  \n",
            "  inflating: dataset/train/perros/images41.jpg  \n",
            "  inflating: dataset/train/perros/images42.jpg  \n",
            "  inflating: dataset/train/perros/images46.jpg  \n",
            "  inflating: dataset/train/perros/color-lengua-perros-700x350.png  \n",
            "  inflating: dataset/train/perros/1524913221_572475_1524913364_noticia_normal.jpg  \n",
            "  inflating: dataset/train/perros/200120141441-perro-husky-adoptado-ojos-locos-redes-sociales-es-viral-pkg-digital-oirginal-00000023-full-169.jpg  \n",
            "  inflating: dataset/train/perros/200324201006-pba-ranking-perros-full-169.jpg  \n",
            "  inflating: dataset/train/perros/caninos_perro_img.png  \n",
            "  inflating: dataset/train/perros/e8a9ce9ab3f3c5ef298a14514047647e.jpg  \n",
            "  inflating: dataset/train/perros/maxresdefault.jpg  \n",
            "  inflating: dataset/train/perros/1529929537_419627_1529933291_noticia_normal.jpg  \n",
            "  inflating: dataset/train/perros/1566815443_201344_1566817103_noticia_normal.jpg  \n",
            "  inflating: dataset/train/perros/1587647870_461843_1587650515_noticia_normal.jpg  \n",
            "  inflating: dataset/train/perros/king-cavalier-2.jpg  \n",
            "  inflating: dataset/train/perros/imagen-archivo-perro-1560872366992.jpg  \n",
            "  inflating: dataset/train/perros/5c8a52b02000009e046f03bd.jpeg  \n",
            "  inflating: dataset/train/perros/golden-cachorro_0.jpg  \n",
            "  inflating: dataset/train/perros/_107435681_perro1.jpg  \n",
            "  inflating: dataset/train/perros/caniche-marron_0.jpg  \n",
            "  inflating: dataset/train/perros/animalbeaglecanine460823-9132a2dba2f564ed875837bac73d58a5-600x400.jpg  \n",
            "  inflating: dataset/train/perros/Foto-ElvisClooth_EDIIMA20190919_0348_1.jpg  \n",
            "  inflating: dataset/train/perros/Branded_Content-Amazon-Marcas_destacadas-Mascotas-Perros-Limpieza-Los_Imprescindibles_477213722_149017965_1024x576.jpg  \n",
            "  inflating: dataset/train/perros/245px-Degaen.jpg  \n",
            "  inflating: dataset/train/perros/5dd46f53c97eb.jpeg  \n",
            "  inflating: dataset/train/perros/10_caracteristicas_de_los_perros_24265_600.jpg  \n",
            "  inflating: dataset/train/perros/546551.jpg  \n",
            "  inflating: dataset/train/perros/fawn-pug-resting-on-floor-1289557-1180x787.jpg  \n",
            "  inflating: dataset/train/perros/94303ca4-823c-4cd6-b1bd-33d3f63c5d11_0.jpeg  \n",
            "  inflating: dataset/train/perros/5bb7bebde3ae3.r_1538768618421.0-101-3000-1604.jpeg  \n",
            "  inflating: dataset/train/perros/img_msanoja_20171124-155606_imagenes_lv_otras_fuentes_istock-675620796-kU5F-U433131319224E2B-992x558LaVanguardia-Web.jpg  \n",
            "  inflating: dataset/train/perros/img_ibernad_20190708-094827_imagenes_lv_terceros_perro-kEDD-U463347505911gz-992x558LaVanguardia-Web.jpg  \n",
            "  inflating: dataset/train/perros/2619-214634-el-estrenimiento-en-perros-sintomas-causas-y-tratemiento.jpg  \n",
            "  inflating: dataset/train/perros/10-blogs-sobre-perros-que-debes-seguir-151.jpg  \n",
            "  inflating: dataset/train/perros/bigstock-dog-in-owners-bed-or-sofa-laz-297486988.jpeg  \n",
            "  inflating: dataset/train/perros/bull-dog-ingles_043b09e1_800x800.jpg  \n",
            "  inflating: dataset/train/perros/coronavirus-perros-no-necesitan-mascarillas-porque-no-se-contagian--5615.jpg  \n",
            "   creating: dataset/train/gatos/\n",
            "  inflating: dataset/train/gatos/blackcat00.jpeg  \n",
            "  inflating: dataset/train/gatos/217225-sonar-gato.jpg  \n",
            "  inflating: dataset/train/gatos/Casey_Elise__gatos_negros_3.jpg  \n",
            "  inflating: dataset/train/gatos/image.jpeg  \n",
            "  inflating: dataset/train/gatos/image0.jpeg  \n",
            "  inflating: dataset/train/gatos/image1.jpeg  \n",
            "  inflating: dataset/train/gatos/image2.jpeg  \n",
            "  inflating: dataset/train/gatos/image3.jpeg  \n",
            "  inflating: dataset/train/gatos/image4.jpeg  \n",
            "  inflating: dataset/train/gatos/image5.jpeg  \n",
            "  inflating: dataset/train/gatos/image6.jpeg  \n",
            "  inflating: dataset/train/gatos/image7.jpeg  \n",
            "  inflating: dataset/train/gatos/image8.jpeg  \n",
            "  inflating: dataset/train/gatos/image9.jpeg  \n",
            "  inflating: dataset/train/gatos/image10.jpeg  \n",
            "  inflating: dataset/train/gatos/image11.jpeg  \n",
            "  inflating: dataset/train/gatos/image12.jpeg  \n",
            "  inflating: dataset/train/gatos/image13.jpeg  \n",
            "  inflating: dataset/train/gatos/image14.jpeg  \n",
            "  inflating: dataset/train/gatos/image15.jpeg  \n",
            "  inflating: dataset/train/gatos/image16.jpeg  \n",
            "  inflating: dataset/train/gatos/image17.jpeg  \n",
            "  inflating: dataset/train/gatos/image18.jpeg  \n",
            "  inflating: dataset/train/gatos/db78dca6680118a0f38c8aab5a06b87d.jpg  \n",
            "  inflating: dataset/train/gatos/gato-1502194230861.jpg  \n",
            "  inflating: dataset/train/gatos/1580904223_238636_1580909302_noticia_normal.jpg  \n",
            "  inflating: dataset/train/gatos/gato_domestico2_1589887527.jpg  \n",
            "  inflating: dataset/train/gatos/5b6b28ab0319d.jpeg  \n",
            "  inflating: dataset/train/gatos/5e42e7cfa1874.jpeg  \n",
            "  inflating: dataset/train/gatos/1445252095_618647_1445271926_noticia_normal.jpg  \n",
            "  inflating: dataset/train/gatos/1587656437_688262_1587656737_noticia_normal_recorte1.jpg  \n",
            "  inflating: dataset/train/gatos/Gato-Covid19-transmisioCC81n-640x360.jpg  \n",
            "  inflating: dataset/train/gatos/291815-musica-gatos.jpg  \n",
            "  inflating: dataset/train/gatos/gatos.jpg  \n",
            "  inflating: dataset/train/gatos/Cabecera_07_temperatura-corporal-gatos_8.png  \n",
            "  inflating: dataset/train/gatos/cara-gato.jpg  \n",
            "  inflating: dataset/train/gatos/gatos0.jpg  \n",
            "  inflating: dataset/train/gatos/5c8ad782230000d50423cebe.jpeg  \n",
            "  inflating: dataset/train/gatos/1535610951_523915_1535611384_noticia_grande.jpg  \n",
            "  inflating: dataset/train/gatos/_109757296_gettyimages-1128004359.jpg  \n",
            "  inflating: dataset/train/gatos/gatitos-siameses-colocados-Nueva-Jersey_EDIIMA20190827_0570_4.jpg  \n",
            "  inflating: dataset/train/gatos/1088322063_001081585_1000x541_80_0_0_1619fa7604b0cd5f695c9c26341ec24b.jpg  \n",
            "  inflating: dataset/train/gatos/Gato-Pixabay.jpg  \n",
            "  inflating: dataset/train/gatos/5dc3fff0c295c.jpg  \n",
            "  inflating: dataset/train/gatos/gato-marron_0.jpg  \n",
            "  inflating: dataset/train/gatos/_103520143_gettyimages-908714708.jpg  \n",
            "  inflating: dataset/train/gatos/gatos-felinos-mininos-gatito.jpg  \n",
            "  inflating: dataset/train/gatos/091210163523_gato_236.jpg  \n",
            "  inflating: dataset/train/gatos/header-protech-gatos-732x732.jpg  \n",
            "  inflating: dataset/train/gatos/DiseC3B1o-sin-tC3ADtulo-28.png  \n",
            "  inflating: dataset/train/gatos/coronavirus-en-gatos_cuestionable.png  \n",
            "  inflating: dataset/train/gatos/450_1000.png  \n",
            "  inflating: dataset/train/gatos/58.jpg  \n",
            "  inflating: dataset/train/gatos/580.jpg  \n",
            "  inflating: dataset/train/gatos/581.jpg  \n",
            "  inflating: dataset/train/gatos/gatito-blanco-negro_0.jpg  \n",
            "  inflating: dataset/train/gatos/Gatospixabay-1140x570.jpg  \n",
            "  inflating: dataset/train/gatos/5c6d88a895b69.jpeg  \n",
            "  inflating: dataset/train/gatos/02.jpg  \n",
            "  inflating: dataset/train/gatos/gatos-indepe_0.jpg  \n",
            "  inflating: dataset/train/gatos/5c6d9cba97c41.r_1565272310692.0-148-1080-684.jpeg  \n",
            "  inflating: dataset/train/gatos/gato-en-el-arenero.jpg  \n",
            "  inflating: dataset/train/gatos/gatos-negros-destacada.jpg  \n",
            "  inflating: dataset/train/gatos/castracion-de-gatos-y-gatas.jpg  \n",
            "  inflating: dataset/train/gatos/hipertextual-no-son-sus-siete-vidas-pero-hay-razon-que-gatos-sobrevivan-mas-que-perros-picaduras-serpiente-2020418697-scaled.jpg  \n",
            "  inflating: dataset/train/gatos/Gatos-Instagram-Redes_sociales-La_Jungla_-_Social_356726591_107647788_1024x576.jpg  \n",
            "  inflating: dataset/train/gatos/gato-con-parC3A1sitos-externos.jpg  \n",
            "  inflating: dataset/train/gatos/gato-ronroneo-1-t.jpg  \n",
            "  inflating: dataset/train/gatos/descubre-como-se-comporta-un-gato.jpg  \n",
            "  inflating: dataset/train/gatos/el-gato-necesita-tener-acceso-al-exterior.jpg  \n",
            "  inflating: dataset/train/gatos/1200px-Collage_of_Six_Cats-02.jpg  \n",
            "  inflating: dataset/train/gatos/1219_P1211772_thumb_380JPG.jpg  \n",
            "  inflating: dataset/train/gatos/img_mrius_20190402-141602_imagenes_lv_terceros_gato_nombre2-328-kLmH-U461425413181OZB-992x558LaVanguardia-Web.jpg  \n",
            "  inflating: dataset/train/gatos/el-alzheimer-de-los-gatos.jpg  \n",
            "  inflating: dataset/train/gatos/gato-collar-aves-6.jpg  \n",
            "  inflating: dataset/train/gatos/dia-gato-1440x808.jpg  \n",
            "  inflating: dataset/train/gatos/gatos-caja-2.png  \n",
            "  inflating: dataset/train/gatos/dia-de-los-gatos.jpg  \n",
            "  inflating: dataset/train/gatos/fotolia_122422577-768x576.jpg  \n",
            "  inflating: dataset/train/gatos/giardia-en-gatos-768x513.jpeg  \n",
            "   creating: dataset/test/\n",
            "   creating: dataset/test/gatos/\n",
            "  inflating: dataset/test/gatos/justin-bieber-compro-dos-gatos___LwBi-88m_1200x630__1.jpg  \n",
            "  inflating: dataset/test/gatos/los-gatos-salvajes-pueden-comer-cadaveres-humanos-y-les-gusta.jpg  \n",
            "  inflating: dataset/test/gatos/-_int_gato.jpg  \n",
            "  inflating: dataset/test/gatos/purina-desarrollo-y-comportamiento-de-gatos-recien-nacidos.jpg  \n",
            "  inflating: dataset/test/gatos/IMGProPlanGato-ceguera-en-gatos2028129.jpg  \n",
            "  inflating: dataset/test/gatos/purina-conoce-las-diversas-razas-de-gatos.png  \n",
            "  inflating: dataset/test/gatos/mordedura-gatos.jpg  \n",
            "  inflating: dataset/test/gatos/purina-porque-lloran-los-gatos.png  \n",
            "  inflating: dataset/test/gatos/PPC-Deshidratacion_1920x650.png  \n",
            "  inflating: dataset/test/gatos/purina-por-que-vemos-tan-felices-a-los-gatos-en-cajas-de-carton.png  \n",
            "  inflating: dataset/test/gatos/maxresdefault.jpg  \n",
            "  inflating: dataset/test/gatos/maxresdefault0.jpg  \n",
            "  inflating: dataset/test/gatos/test-gatos.jpg  \n",
            "  inflating: dataset/test/gatos/merlin_160087014_de761d9a-4360-402d-a15b-ddeff775760d-articleLarge.jpg  \n",
            "  inflating: dataset/test/gatos/razas-de-gato-exoticas-m.jpg  \n",
            "  inflating: dataset/test/gatos/razas-gatos-mas-comunes-m.jpg  \n",
            "  inflating: dataset/test/gatos/img_oyeste_20191015-101515_imagenes_lv_terceros_amor_gatos_3-kUkD-U481141354769FjH-992x558LaVanguardia-Web.jpg  \n",
            "  inflating: dataset/test/gatos/Sin_tA_tulo-3_thumb_380.jpg  \n",
            "  inflating: dataset/test/gatos/razas-gatos-2xl-848x477x80xX.jpg  \n",
            "  inflating: dataset/test/gatos/woman-cat-mujer-gato-coronavirus-felino-abrazado-115862722531.jpg  \n",
            "   creating: dataset/test/perros/\n",
            "  inflating: dataset/test/perros/perro-ninos.jpg  \n",
            "  inflating: dataset/test/perros/NOMBRES-DE-PERROS-PORTADA.jpg  \n",
            "  inflating: dataset/test/perros/un-veterinario-animo-a-las___Pwt_ln2-_340x340__1.jpg  \n",
            "  inflating: dataset/test/perros/por-que-los-perros-caminan-en-circulos-antes-de-tumbarse.jpg  \n",
            "  inflating: dataset/test/perros/perro.jpg  \n",
            "  inflating: dataset/test/perros/perro-tumbado-alfombra_1.jpg  \n",
            "  inflating: dataset/test/perros/perro-miedo-armario_0.jpg  \n",
            "  inflating: dataset/test/perros/puppy-1903313-1280.jpg  \n",
            "  inflating: dataset/test/perros/perros-television-dogtv-vision_EDIIMA20151102_0551_1.jpg  \n",
            "  inflating: dataset/test/perros/razas_de_perros_grises_24718_600_square.jpg  \n",
            "  inflating: dataset/test/perros/nombres_para_perros_con_c_24614_2_600.jpg  \n",
            "  inflating: dataset/test/perros/perro-3-e1561679226953.jpg  \n",
            "  inflating: dataset/test/perros/tengo-un-perro-sh.jpg  \n",
            "  inflating: dataset/test/perros/perro_parasitos-t.jpg  \n",
            "  inflating: dataset/test/perros/perrodefensa-m.jpg  \n",
            "  inflating: dataset/test/perros/razas-de-perros-raras-m.jpg  \n",
            "  inflating: dataset/test/perros/razas-perro-pequenos-grandes-m.jpg  \n",
            "  inflating: dataset/test/perros/mid_dog-3867668_960_720.jpg  \n",
            "  inflating: dataset/test/perros/procesionaria-del-pino-peligro-para-perros-perro-848x477x80xX.jpg  \n",
            "  inflating: dataset/test/perros/purina-musica-relajante-para-perros-ansiosos.jpg  \n",
            "   creating: dataset/clasificar/\n",
            "  inflating: dataset/clasificar/perro.jpg  \n",
            "  inflating: dataset/clasificar/gato-perro.jpg  \n",
            "  inflating: dataset/clasificar/gato.jpg  \n"
          ],
          "name": "stdout"
        }
      ]
    },
    {
      "cell_type": "markdown",
      "metadata": {
        "id": "l_vCQoHX9bcg",
        "colab_type": "text"
      },
      "source": [
        "## Usar el dataset"
      ]
    },
    {
      "cell_type": "code",
      "metadata": {
        "id": "22WHfxS3lYvS",
        "colab_type": "code",
        "colab": {
          "base_uri": "https://localhost:8080/",
          "height": 54
        },
        "outputId": "dcb297ad-2035-4e31-f180-e99c0a846e4b"
      },
      "source": [
        "import tensorflow as tf\n",
        "from tensorflow.keras.preprocessing.image import ImageDataGenerator\n",
        "\n",
        "train_datagen = ImageDataGenerator(rescale = 1./255,\n",
        "shear_range = 0.2,\n",
        "zoom_range = 0.2,\n",
        "horizontal_flip = True)\n",
        "test_datagen = ImageDataGenerator(rescale = 1./255)\n",
        "training_set = train_datagen.flow_from_directory('/content/dataset/train',\n",
        "                                                 target_size=(64, 64),\n",
        "                                                 batch_size = 32,\n",
        "                                                 class_mode = 'binary')\n",
        "test_set = test_datagen.flow_from_directory('/content/dataset/test',\n",
        "                                            target_size = (64, 64),\n",
        "                                            batch_size = 32,\n",
        "                                            class_mode = 'binary')"
      ],
      "execution_count": 3,
      "outputs": [
        {
          "output_type": "stream",
          "text": [
            "Found 160 images belonging to 2 classes.\n",
            "Found 40 images belonging to 2 classes.\n"
          ],
          "name": "stdout"
        }
      ]
    },
    {
      "cell_type": "markdown",
      "metadata": {
        "id": "IE-Ef5lR98O4",
        "colab_type": "text"
      },
      "source": [
        "## Diseñar el modelo\n",
        "Completar la celda siguiente con el código para construir el modelo."
      ]
    },
    {
      "cell_type": "code",
      "metadata": {
        "id": "SiSA6JpDPdZc",
        "colab_type": "code",
        "colab": {
          "base_uri": "https://localhost:8080/",
          "height": 72
        },
        "outputId": "beca564a-d54f-4bc9-b6d7-bedae0dac4a7"
      },
      "source": [
        "from tensorflow.keras.datasets import mnist\n",
        "mnist = tf.keras.datasets.mnist\n",
        "\n",
        "print('Versión de TensorFlow:',tf.__version__)\n",
        "(x_train, y_train), (x_test, y_test) = mnist.load_data()\n",
        "x_train, x_test = x_train / 255.0, x_test / 255.0\n",
        "\n",
        "ts = x_train.shape\n",
        "x_train = x_train.reshape(ts[0], ts[1], ts[2], 1)\n",
        "tt = x_test.shape\n",
        "x_test = x_test.reshape(tt[0], tt[1], tt[2], 1)\n",
        "\n",
        "model = tf.keras.models.Sequential([\n",
        "  tf.keras.layers.Conv2D(6, (6, 6), activation='relu',\n",
        "                         input_shape=(28, 28, 1)),\n",
        "  tf.keras.layers.Conv2D(12, (5, 5), strides=(2, 2), activation='relu'),\n",
        "  tf.keras.layers.Conv2D(24, (4, 4), strides=(2, 2), activation='relu'),\n",
        "  tf.keras.layers.Flatten(),\n",
        "  tf.keras.layers.Dropout(rate=.25),\n",
        "  tf.keras.layers.Dense(200, activation='relu'),\n",
        "  tf.keras.layers.Dense(10, activation='softmax')\n",
        "])\n",
        "\n",
        "optimizer = tf.keras.optimizers.Adam(decay=.0001)\n",
        "\n",
        "model.compile(optimizer=optimizer,\n",
        "              loss='sparse_categorical_crossentropy',\n",
        "              metrics=['accuracy'])\n",
        "\n",
        "training_set = tf.data.Dataset.from_tensor_slices((x_train, y_train))\n",
        "training_set = training_set.shuffle(buffer_size=1024).batch(64)\n",
        "test_set = tf.data.Dataset.from_tensor_slices((x_test, y_test))\n",
        "test_set = test_set.batch(64)"
      ],
      "execution_count": 4,
      "outputs": [
        {
          "output_type": "stream",
          "text": [
            "Versión de TensorFlow: 2.2.0\n",
            "Downloading data from https://storage.googleapis.com/tensorflow/tf-keras-datasets/mnist.npz\n",
            "11493376/11490434 [==============================] - 0s 0us/step\n"
          ],
          "name": "stdout"
        }
      ]
    },
    {
      "cell_type": "markdown",
      "metadata": {
        "id": "MTr5639L-Wce",
        "colab_type": "text"
      },
      "source": [
        "# Entrenamos el modelo\n"
      ]
    },
    {
      "cell_type": "code",
      "metadata": {
        "id": "JKZOeSHonjN3",
        "colab_type": "code",
        "colab": {
          "base_uri": "https://localhost:8080/",
          "height": 954
        },
        "outputId": "f90ffb22-80e3-4c8e-931f-d3083d40c14e"
      },
      "source": [
        "model.fit(training_set, epochs = 25)\n"
      ],
      "execution_count": 5,
      "outputs": [
        {
          "output_type": "stream",
          "text": [
            "Epoch 1/25\n",
            "938/938 [==============================] - 3s 3ms/step - loss: 0.2487 - accuracy: 0.9244\n",
            "Epoch 2/25\n",
            "938/938 [==============================] - 4s 4ms/step - loss: 0.0899 - accuracy: 0.9724\n",
            "Epoch 3/25\n",
            "938/938 [==============================] - 4s 4ms/step - loss: 0.0668 - accuracy: 0.9792\n",
            "Epoch 4/25\n",
            "938/938 [==============================] - 4s 4ms/step - loss: 0.0535 - accuracy: 0.9831\n",
            "Epoch 5/25\n",
            "938/938 [==============================] - 4s 4ms/step - loss: 0.0446 - accuracy: 0.9857\n",
            "Epoch 6/25\n",
            "938/938 [==============================] - 4s 4ms/step - loss: 0.0384 - accuracy: 0.9877\n",
            "Epoch 7/25\n",
            "938/938 [==============================] - 4s 4ms/step - loss: 0.0336 - accuracy: 0.9892\n",
            "Epoch 8/25\n",
            "938/938 [==============================] - 4s 4ms/step - loss: 0.0297 - accuracy: 0.9901\n",
            "Epoch 9/25\n",
            "938/938 [==============================] - 4s 4ms/step - loss: 0.0258 - accuracy: 0.9915\n",
            "Epoch 10/25\n",
            "938/938 [==============================] - 4s 4ms/step - loss: 0.0248 - accuracy: 0.9920\n",
            "Epoch 11/25\n",
            "938/938 [==============================] - 4s 4ms/step - loss: 0.0204 - accuracy: 0.9935\n",
            "Epoch 12/25\n",
            "938/938 [==============================] - 4s 4ms/step - loss: 0.0195 - accuracy: 0.9934\n",
            "Epoch 13/25\n",
            "938/938 [==============================] - 4s 4ms/step - loss: 0.0193 - accuracy: 0.9936\n",
            "Epoch 14/25\n",
            "938/938 [==============================] - 4s 4ms/step - loss: 0.0169 - accuracy: 0.9942\n",
            "Epoch 15/25\n",
            "938/938 [==============================] - 4s 4ms/step - loss: 0.0157 - accuracy: 0.9947\n",
            "Epoch 16/25\n",
            "938/938 [==============================] - 4s 5ms/step - loss: 0.0136 - accuracy: 0.9957\n",
            "Epoch 17/25\n",
            "938/938 [==============================] - 4s 4ms/step - loss: 0.0120 - accuracy: 0.9959\n",
            "Epoch 18/25\n",
            "938/938 [==============================] - 4s 4ms/step - loss: 0.0119 - accuracy: 0.9958\n",
            "Epoch 19/25\n",
            "938/938 [==============================] - 3s 4ms/step - loss: 0.0116 - accuracy: 0.9961\n",
            "Epoch 20/25\n",
            "938/938 [==============================] - 4s 4ms/step - loss: 0.0115 - accuracy: 0.9961\n",
            "Epoch 21/25\n",
            "938/938 [==============================] - 3s 4ms/step - loss: 0.0099 - accuracy: 0.9967\n",
            "Epoch 22/25\n",
            "938/938 [==============================] - 3s 4ms/step - loss: 0.0102 - accuracy: 0.9966\n",
            "Epoch 23/25\n",
            "938/938 [==============================] - 4s 4ms/step - loss: 0.0094 - accuracy: 0.9968\n",
            "Epoch 24/25\n",
            "938/938 [==============================] - 4s 4ms/step - loss: 0.0092 - accuracy: 0.9970\n",
            "Epoch 25/25\n",
            "938/938 [==============================] - 4s 4ms/step - loss: 0.0082 - accuracy: 0.9970\n"
          ],
          "name": "stdout"
        },
        {
          "output_type": "execute_result",
          "data": {
            "text/plain": [
              "<tensorflow.python.keras.callbacks.History at 0x7f43ca91c860>"
            ]
          },
          "metadata": {
            "tags": []
          },
          "execution_count": 5
        }
      ]
    },
    {
      "cell_type": "markdown",
      "metadata": {
        "id": "hCCL4oXx-pj4",
        "colab_type": "text"
      },
      "source": [
        "## Evaluamos el modelo\n",
        "Lograr al menos un 80% de exactitud en la clasificación.\n"
      ]
    },
    {
      "cell_type": "code",
      "metadata": {
        "id": "kU_aukkbsO55",
        "colab_type": "code",
        "colab": {
          "base_uri": "https://localhost:8080/",
          "height": 54
        },
        "outputId": "a67967d4-bedd-458b-9851-32bdae0112a4"
      },
      "source": [
        "model.evaluate(test_set)"
      ],
      "execution_count": 6,
      "outputs": [
        {
          "output_type": "stream",
          "text": [
            "157/157 [==============================] - 1s 3ms/step - loss: 0.0248 - accuracy: 0.9935\n"
          ],
          "name": "stdout"
        },
        {
          "output_type": "execute_result",
          "data": {
            "text/plain": [
              "[0.024767175316810608, 0.9934999942779541]"
            ]
          },
          "metadata": {
            "tags": []
          },
          "execution_count": 6
        }
      ]
    },
    {
      "cell_type": "markdown",
      "metadata": {
        "id": "kIEQNyLq-yYe",
        "colab_type": "text"
      },
      "source": [
        "## Probamos el modelo\n",
        "1. Buscar 2 imágenes nuevas.\n",
        "1. Mostrarlas en pantalla (matplotlib). \n",
        "1. Clasificarlas con nuestro modelo.\n",
        "1. Mostrar el resultado de la clasificación.\n",
        "\n",
        "Completar la siguiente celda con el código para realizar lo anterior."
      ]
    },
    {
      "cell_type": "code",
      "metadata": {
        "id": "_BSp41oRs2R1",
        "colab_type": "code",
        "colab": {
          "base_uri": "https://localhost:8080/",
          "height": 1000
        },
        "outputId": "75d8fdaf-7273-432a-8226-e2f5fce450a4"
      },
      "source": [
        "from keras.models import Sequential\n",
        "from keras.layers import Conv2D\n",
        "from keras.layers import MaxPooling2D\n",
        "from keras.layers import Flatten\n",
        "from keras.layers import Dense\n",
        "from keras.preprocessing import image\n",
        "import numpy as np\n",
        "import matplotlib.pyplot as plt1\n",
        "import matplotlib.pyplot as plt2\n",
        "\n",
        "# Cargar dos imágenes nuevas\n",
        "test_image1 = image.load_img('dataset/clasificar/gato.jpg', target_size = (64, 64))\n",
        "test_image2 = image.load_img('dataset/clasificar/perro.jpg', target_size = (64, 64))\n",
        "\n",
        "# Mostrar las dos imágenes en pantalla\n",
        "plt1.imshow(test_image1)\n",
        "plt1.title(\"Imagen 1\")  \n",
        "plt1.axis('off')\n",
        "plt1.show()\n",
        "plt2.imshow(test_image2)\n",
        "plt2.title(\"Imagen 2\")  \n",
        "plt2.axis('off')\n",
        "plt2.show()\n",
        "\n",
        "# Iniciar CNN\n",
        "classifier = Sequential()\n",
        "classifier.add(Conv2D(32, (3, 3), input_shape = (64, 64, 3), activation = 'relu'))\n",
        "classifier.add(MaxPooling2D(pool_size = (2, 2)))\n",
        "classifier.add(Conv2D(32, (3, 3), activation = 'relu'))\n",
        "classifier.add(MaxPooling2D(pool_size = (2, 2)))\n",
        "classifier.add(Flatten())\n",
        "classifier.add(Dense(units = 128, activation = 'relu'))\n",
        "classifier.add(Dense(units = 1, activation = 'sigmoid'))\n",
        "\n",
        "# Compilar CNN\n",
        "classifier.compile(optimizer = 'adam', loss = 'binary_crossentropy', metrics = ['accuracy'])\n",
        "\n",
        "# Adaptar CNN a las imágenes\n",
        "from keras.preprocessing.image import ImageDataGenerator\n",
        "train_datagen = ImageDataGenerator(rescale = 1./255,\n",
        "shear_range = 0.2,\n",
        "zoom_range = 0.2,\n",
        "horizontal_flip = True)\n",
        "test_datagen = ImageDataGenerator(rescale = 1./255)\n",
        "training_set = train_datagen.flow_from_directory('dataset/train',\n",
        "target_size = (64, 64),\n",
        "batch_size = 32,\n",
        "class_mode = 'binary')\n",
        "test_set = test_datagen.flow_from_directory('dataset/test',\n",
        "target_size = (64, 64),\n",
        "batch_size = 32,\n",
        "class_mode = 'binary')\n",
        "classifier.fit_generator(training_set,\n",
        "steps_per_epoch = None,\n",
        "epochs = 25,\n",
        "validation_data = test_set,\n",
        "validation_steps = None)\n",
        "\n",
        "# Clasificar las nuevas imágenes\n",
        "test_image1 = image.img_to_array(test_image1)\n",
        "test_image1 = np.expand_dims(test_image1, axis = 0)\n",
        "result1 = classifier.predict(test_image1)\n",
        "training_set.class_indices\n",
        "test_image2 = image.img_to_array(test_image2)\n",
        "test_image2 = np.expand_dims(test_image2, axis = 0)\n",
        "result2 = classifier.predict(test_image2)\n",
        "training_set.class_indices\n",
        "\n",
        "# Mostrar los resultados de clasificación de las imágenes\n",
        "print('Resultados de la clasificación:')\n",
        "if result1[0][0] == 1: \n",
        "  prediction = 'perro'\n",
        "else:\n",
        "  prediction = 'gato'\n",
        "print('La imagen 1 es un:',prediction) \n",
        "\n",
        "if result2[0][0] == 1: \n",
        "  prediction = 'perro'\n",
        "else:\n",
        "  prediction = 'gato'\n",
        "print('La imagen 2 es un:',prediction) "
      ],
      "execution_count": 8,
      "outputs": [
        {
          "output_type": "display_data",
          "data": {
            "image/png": "[encoded data removed]",
            "text/plain": [
              "<Figure size 432x288 with 1 Axes>"
            ]
          },
          "metadata": {
            "tags": [],
            "needs_background": "light"
          }
        },
        {
          "output_type": "display_data",
          "data": {
            "image/png": "[encoded data removed]",
            "text/plain": [
              "<Figure size 432x288 with 1 Axes>"
            ]
          },
          "metadata": {
            "tags": [],
            "needs_background": "light"
          }
        },
        {
          "output_type": "stream",
          "text": [
            "Found 160 images belonging to 2 classes.\n",
            "Found 40 images belonging to 2 classes.\n",
            "Epoch 1/25\n",
            "1/5 [=====>........................] - ETA: 2s - loss: 0.6858 - accuracy: 0.6250"
          ],
          "name": "stdout"
        },
        {
          "output_type": "stream",
          "text": [
            "/usr/local/lib/python3.6/dist-packages/PIL/Image.py:932: UserWarning: Palette images with Transparency expressed in bytes should be converted to RGBA images\n",
            "  \"Palette images with Transparency expressed in bytes should be \"\n"
          ],
          "name": "stderr"
        },
        {
          "output_type": "stream",
          "text": [
            "5/5 [==============================] - 2s 301ms/step - loss: 0.7737 - accuracy: 0.5625 - val_loss: 0.6079 - val_accuracy: 0.5000\n",
            "Epoch 2/25\n",
            "5/5 [==============================] - 1s 279ms/step - loss: 0.7075 - accuracy: 0.5000 - val_loss: 0.6888 - val_accuracy: 0.4500\n",
            "Epoch 3/25\n",
            "5/5 [==============================] - 1s 274ms/step - loss: 0.6895 - accuracy: 0.6000 - val_loss: 0.6949 - val_accuracy: 0.6500\n",
            "Epoch 4/25\n",
            "5/5 [==============================] - 1s 280ms/step - loss: 0.6870 - accuracy: 0.5875 - val_loss: 0.6777 - val_accuracy: 0.5000\n",
            "Epoch 5/25\n",
            "5/5 [==============================] - 1s 275ms/step - loss: 0.6767 - accuracy: 0.6062 - val_loss: 0.6771 - val_accuracy: 0.6250\n",
            "Epoch 6/25\n",
            "5/5 [==============================] - 1s 272ms/step - loss: 0.6713 - accuracy: 0.5750 - val_loss: 0.6306 - val_accuracy: 0.6000\n",
            "Epoch 7/25\n",
            "5/5 [==============================] - 1s 270ms/step - loss: 0.6646 - accuracy: 0.6187 - val_loss: 0.7576 - val_accuracy: 0.5750\n",
            "Epoch 8/25\n",
            "5/5 [==============================] - 1s 273ms/step - loss: 0.6580 - accuracy: 0.5813 - val_loss: 0.6429 - val_accuracy: 0.6000\n",
            "Epoch 9/25\n",
            "5/5 [==============================] - 1s 271ms/step - loss: 0.6430 - accuracy: 0.6250 - val_loss: 0.5239 - val_accuracy: 0.6500\n",
            "Epoch 10/25\n",
            "5/5 [==============================] - 1s 279ms/step - loss: 0.6233 - accuracy: 0.7063 - val_loss: 0.6322 - val_accuracy: 0.6250\n",
            "Epoch 11/25\n",
            "5/5 [==============================] - 1s 280ms/step - loss: 0.5963 - accuracy: 0.6938 - val_loss: 0.6593 - val_accuracy: 0.6500\n",
            "Epoch 12/25\n",
            "5/5 [==============================] - 1s 284ms/step - loss: 0.6366 - accuracy: 0.6625 - val_loss: 0.4847 - val_accuracy: 0.6250\n",
            "Epoch 13/25\n",
            "5/5 [==============================] - 1s 271ms/step - loss: 0.5756 - accuracy: 0.6938 - val_loss: 0.8372 - val_accuracy: 0.6750\n",
            "Epoch 14/25\n",
            "5/5 [==============================] - 1s 278ms/step - loss: 0.5684 - accuracy: 0.7250 - val_loss: 0.6299 - val_accuracy: 0.7000\n",
            "Epoch 15/25\n",
            "5/5 [==============================] - 1s 279ms/step - loss: 0.5652 - accuracy: 0.7063 - val_loss: 0.6276 - val_accuracy: 0.7500\n",
            "Epoch 16/25\n",
            "5/5 [==============================] - 1s 278ms/step - loss: 0.5194 - accuracy: 0.7312 - val_loss: 0.4680 - val_accuracy: 0.7000\n",
            "Epoch 17/25\n",
            "5/5 [==============================] - 1s 282ms/step - loss: 0.5073 - accuracy: 0.7375 - val_loss: 0.4765 - val_accuracy: 0.7000\n",
            "Epoch 18/25\n",
            "5/5 [==============================] - 1s 277ms/step - loss: 0.4541 - accuracy: 0.7750 - val_loss: 0.5386 - val_accuracy: 0.7000\n",
            "Epoch 19/25\n",
            "5/5 [==============================] - 1s 284ms/step - loss: 0.4654 - accuracy: 0.7500 - val_loss: 0.3783 - val_accuracy: 0.7500\n",
            "Epoch 20/25\n",
            "5/5 [==============================] - 1s 276ms/step - loss: 0.4290 - accuracy: 0.8250 - val_loss: 0.6921 - val_accuracy: 0.7000\n",
            "Epoch 21/25\n",
            "5/5 [==============================] - 1s 276ms/step - loss: 0.4134 - accuracy: 0.8313 - val_loss: 0.3964 - val_accuracy: 0.7250\n",
            "Epoch 22/25\n",
            "5/5 [==============================] - 1s 281ms/step - loss: 0.4627 - accuracy: 0.7875 - val_loss: 0.8991 - val_accuracy: 0.6000\n",
            "Epoch 23/25\n",
            "5/5 [==============================] - 1s 277ms/step - loss: 0.4636 - accuracy: 0.7812 - val_loss: 0.6289 - val_accuracy: 0.6500\n",
            "Epoch 24/25\n",
            "5/5 [==============================] - 1s 277ms/step - loss: 0.4357 - accuracy: 0.7937 - val_loss: 0.6612 - val_accuracy: 0.7500\n",
            "Epoch 25/25\n",
            "5/5 [==============================] - 1s 278ms/step - loss: 0.3942 - accuracy: 0.8562 - val_loss: 0.6896 - val_accuracy: 0.7250\n",
            "Resultados de la clasificación:\n",
            "La imagen 1 es un: gato\n",
            "La imagen 2 es un: perro\n"
          ],
          "name": "stdout"
        }
      ]
    }
  ]
}